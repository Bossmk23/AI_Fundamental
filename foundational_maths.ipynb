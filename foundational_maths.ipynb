{
 "cells": [
  {
   "cell_type": "markdown",
   "id": "01e71b03-7fff-4345-af63-8db7989cc3ca",
   "metadata": {},
   "source": [
    "## Task 1: Matrix Operations with NumPy\n",
    "### On 2D Matrix"
   ]
  },
  {
   "cell_type": "code",
   "execution_count": null,
   "id": "36197039-0077-4c66-ac94-5f77cfe33893",
   "metadata": {},
   "outputs": [],
   "source": [
    "import numpy as np\n",
    "A = np.array([[2, 3], [4, 5]])\n",
    "B = np.array([[1, 0], [0, 1]])  \n",
    "\n",
    "C_add = A + B   # Matrix Addition\n",
    "\n",
    "C_sub = A - B  # Matrix subtraction\n",
    "\n",
    "# Matrix Multiplication (Dot Product)\n",
    "C_mul = np.dot(A, B)  # or A @ B\n",
    "\n",
    "C_elem_mul = A * B # Element-wise Multiplication\n",
    "\n",
    "A_T = A.T # Transpose\n",
    "\n",
    "print(\"Matrix A:\\n\", A)\n",
    "print(\"Matrix B (Identity):\\n\", B)\n",
    "print(\"\\nAddition (A + B):\\n\", C_add)\n",
    "print(\"Subtraction (A - B):\\n\", C_sub)\n",
    "print(\"Matrix Multiplication (A @ B):\\n\", C_mul)\n",
    "print(\"Element-wise Multiplication (A * B):\\n\", C_elem_mul)\n",
    "print(\"Transpose of A:\\n\", A_T)"
   ]
  },
  {
   "cell_type": "markdown",
   "id": "37c746a2-a200-4f15-bc2f-2b87644e8c25",
   "metadata": {},
   "source": [
    "### Explanation :\n",
    "##### A + B: Adds two matrices element-wise.\n",
    "##### A -B : Subtract two matrices element wise.\n",
    "##### A @ B: Performs matrix multiplication.\n",
    "##### A * B: performs multiplication element wise.\n",
    "##### A.T: Transposes matrix A (rows become columns).\n",
    "##### np.linalg.inv(A): Computes the inverse of matrix A"
   ]
  },
  {
   "cell_type": "markdown",
   "id": "d9b9f7d6-84ff-4dbd-920d-bf74f5e988d4",
   "metadata": {},
   "source": [
    "## Eigenvalues and Eigenvectors"
   ]
  },
  {
   "cell_type": "code",
   "execution_count": null,
   "id": "7b770204-a9b5-4674-a496-b0af723c8f0a",
   "metadata": {},
   "outputs": [],
   "source": [
    "eigenvalues, eigenvectors = np.linalg.eig(A)\n",
    "print(\"Eigenvalues:\", eigenvalues)\n",
    "print(\"Eigenvectors:\\n\", eigenvectors)"
   ]
  },
  {
   "cell_type": "markdown",
   "id": "c80c5d9a-e5c6-4fb7-a154-98dabadcfa03",
   "metadata": {},
   "source": [
    "### Explanation:\n",
    "##### Eigenvalues give you the scaling factor.\n",
    "##### Eigenvectors point in the direction that remains unchanged under the transformation applied by matrix A."
   ]
  },
  {
   "cell_type": "markdown",
   "id": "8aa48c21-fdbb-46fa-9fc7-d7e5c21f4460",
   "metadata": {},
   "source": [
    "### On 3D Matrix"
   ]
  },
  {
   "cell_type": "code",
   "execution_count": null,
   "id": "f71c1ec8-8a22-4fac-b3cf-86f7948a0356",
   "metadata": {},
   "outputs": [],
   "source": [
    "import numpy as np\n",
    "A_3D = np.array([\n",
    "    [[1, 2], [3, 4]],\n",
    "    [[2, 0], [1, 2]],\n",
    "    [[0, 1], [1, 0]]\n",
    "])\n",
    "\n",
    "B_3D = np.array([\n",
    "    [[0, 1], [1, 0]],\n",
    "    [[2, 1], [1, 2]],\n",
    "    [[1, 1], [1, 1]]\n",
    "])\n",
    "\n",
    "# Addition\n",
    "add = A_3D + B_3D\n",
    "\n",
    "# Subtraction\n",
    "sub_result = A_3D - B_3D\n",
    "\n",
    "# Element-wise Multiplication\n",
    "mul = A_3D * B_3D\n",
    "\n",
    "# Matrix Multiplication for each 2D matrix (batch-wise)\n",
    "dot = np.matmul(A_3D, B_3D)\n",
    "\n",
    "# Transpose each matrix in the stack\n",
    "transpose_result = A_3D.transpose(0, 2, 1) \n",
    "\n",
    "# Inverse of each matrix (if invertible)\n",
    "for i in range(A_3D.shape[0]):\n",
    "    matrix = A_3D[i]\n",
    "    print(f\"\\nMatrix {i+1}:\\n{matrix}\")\n",
    "    try:\n",
    "        inv = np.linalg.inv(matrix)\n",
    "        print(\"Inverse:\\n\", inv)\n",
    "    except np.linalg.LinAlgError:\n",
    "        print(\"Matrix is not invertible.\")"
   ]
  },
  {
   "cell_type": "markdown",
   "id": "4f5c5598-57cc-4d5a-8e3b-f1632c5c4caf",
   "metadata": {},
   "source": [
    "## Task 2: Calculus with SymPy (Symbolic Differentiation and Integration)"
   ]
  },
  {
   "cell_type": "code",
   "execution_count": null,
   "id": "6ab30d2a-39ed-45a7-b061-91e6974d4429",
   "metadata": {},
   "outputs": [],
   "source": [
    "import sympy as sp\n",
    "\n",
    "x = sp.symbols('x')\n",
    "f = x**2 * sp.sin(x)\n",
    "\n",
    "# Derivative\n",
    "differenciation = sp.diff(f, x)\n",
    "\n",
    "# Integral\n",
    "integration = sp.integrate(f, x)\n",
    "\n",
    "print(\"Function:\", f)\n",
    "print(\"Derivative:\", differenciation)\n",
    "print(\"Integral:\", integration)\n"
   ]
  },
  {
   "cell_type": "markdown",
   "id": "41ed7471-3e0a-43b5-8abd-d9188d1c5c43",
   "metadata": {},
   "source": [
    "### Explanation:\n",
    "##### sympy is a Python library for symbolic mathematics (like doing algebra by hand).\n",
    "##### sp.diff(): Differentiates a function symbolically.\n",
    "##### sp.integrate(): Computes the symbolic integral.\n",
    "##### This is useful in gradient descent or solving optimization problems"
   ]
  },
  {
   "cell_type": "markdown",
   "id": "3235cdd2-b644-423d-b1ad-4d7afe045747",
   "metadata": {},
   "source": [
    "## Task 3: Probability Simulation\n",
    "### Dice roll example"
   ]
  },
  {
   "cell_type": "code",
   "execution_count": null,
   "id": "630baa0f-4227-493e-b24c-593ca823a765",
   "metadata": {},
   "outputs": [],
   "source": [
    "np.random.seed(42)\n",
    "rolls = np.random.randint(1, 7, size=1000)\n",
    "\n",
    "values, counts = np.unique(rolls, return_counts=True)\n",
    "probabilities = counts / len(rolls)\n",
    "\n",
    "print(\"Probability of each die face:\", dict(zip(values, probabilities)))\n"
   ]
  },
  {
   "cell_type": "markdown",
   "id": "c3f34ca3-259c-43d8-81bd-c2cef4ad7dd4",
   "metadata": {},
   "source": [
    "### Explanation:\n",
    "##### Simulates rolling a 6-sided die 1000 times.\n",
    "##### np.unique counts how many times each face appears.\n",
    "##### Calculates probability of each face as count / total rolls."
   ]
  },
  {
   "cell_type": "markdown",
   "id": "f620c7cb-6a35-461c-8dc6-61e6a1270776",
   "metadata": {},
   "source": [
    "### Coin Toss example"
   ]
  },
  {
   "cell_type": "code",
   "execution_count": null,
   "id": "3ac3337c-fe80-4212-a04f-61e102cfebd5",
   "metadata": {},
   "outputs": [],
   "source": [
    "import random\n",
    "def coin_toss():\n",
    "    return random.choice(['Heads', 'Tails'])\n",
    "\n",
    "# Toss the coin once\n",
    "result = coin_toss()\n",
    "print(\"Result of the toss:\", result)"
   ]
  },
  {
   "cell_type": "markdown",
   "id": "5f19b45b-b59f-479e-b797-a41cf666782b",
   "metadata": {},
   "source": [
    " ## Task 4: Gradient Calculation (Numerical)"
   ]
  },
  {
   "cell_type": "code",
   "execution_count": null,
   "id": "f3c00c50-a1e3-4f07-915b-e695fa50477c",
   "metadata": {},
   "outputs": [],
   "source": [
    "def f(x, y):\n",
    "    return x**2 + y**2\n",
    "\n",
    "x = np.linspace(-2, 2, 5)\n",
    "y = np.linspace(-2, 2, 5)\n",
    "X, Y = np.meshgrid(x, y)\n",
    "Z = f(X, Y)\n",
    "\n",
    "# Compute gradient\n",
    "grad_x, grad_y = np.gradient(Z)\n",
    "\n",
    "print(\"Gradient along x:\\n\", grad_x)\n",
    "print(\"Gradient along y:\\n\", grad_y)\n"
   ]
  },
  {
   "cell_type": "markdown",
   "id": "5fb01ead-9b5b-4ba6-819a-841980f86575",
   "metadata": {},
   "source": [
    "### Explanation:\n",
    "##### Defines a simple 2D function f(x, y) = x² + y².\n",
    "##### Uses np.gradient to compute partial derivatives with respect to x and y.\n",
    "##### linspace() used to create arrays of evenly spaced values.\n",
    "##### This mimics what happens in optimization algorithms during training of AI models (like backpropagation)."
   ]
  },
  {
   "cell_type": "code",
   "execution_count": null,
   "id": "c5fb4766-6f03-4be8-b4f7-102daab52724",
   "metadata": {},
   "outputs": [],
   "source": []
  }
 ],
 "metadata": {
  "kernelspec": {
   "display_name": "Python 3 (ipykernel)",
   "language": "python",
   "name": "python3"
  },
  "language_info": {
   "codemirror_mode": {
    "name": "ipython",
    "version": 3
   },
   "file_extension": ".py",
   "mimetype": "text/x-python",
   "name": "python",
   "nbconvert_exporter": "python",
   "pygments_lexer": "ipython3",
   "version": "3.12.7"
  }
 },
 "nbformat": 4,
 "nbformat_minor": 5
}
